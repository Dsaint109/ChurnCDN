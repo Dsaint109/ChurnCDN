{
 "cells": [
  {
   "cell_type": "code",
   "execution_count": 1,
   "metadata": {
    "collapsed": true
   },
   "outputs": [],
   "source": [
    "import csv\n",
    "import pandas as pd\n",
    "from sklearn.neighbors import KNeighborsClassifier\n",
    "from sklearn.tree import DecisionTreeClassifier\n",
    "from sklearn.ensemble import RandomForestClassifier\n",
    "from sklearn.naive_bayes import GaussianNB"
   ]
  },
  {
   "cell_type": "code",
   "execution_count": 2,
   "metadata": {
    "collapsed": true
   },
   "outputs": [],
   "source": [
    "# For compatibility across multiple platforms\n",
    "import os\n",
    "IB = os.environ.get('INSTABASE_URI',None) is not None\n",
    "open = ib.open if IB else open"
   ]
  },
  {
   "cell_type": "code",
   "execution_count": 3,
   "metadata": {},
   "outputs": [
    {
     "name": "stdout",
     "output_type": "stream",
     "text": [
      "1260\n",
      "139\n"
     ]
    }
   ],
   "source": [
    "# Read Train.csv into dataframe\n",
    "f = open('Train.csv', 'r')\n",
    "customers = pd.read_csv(f)\n",
    "customers = customers.reset_index(drop=True)\n",
    "customers = customers[:len(customers)-1]\n",
    "numTrain = int(len(customers)*0.9)\n",
    "numTest = len(customers) - numTrain\n",
    "customerTrain = customers[0:numTrain]\n",
    "customerTest = customers[numTrain:len(customers)-1]\n",
    "f = open('Test.csv', 'r')\n",
    "test = pd.read_csv(f)\n",
    "print(len(customerTrain))\n",
    "print(len(customerTest))"
   ]
  },
  {
   "cell_type": "code",
   "execution_count": 23,
   "metadata": {},
   "outputs": [],
   "source": [
    "# KNN test\n",
    "features = ['network_age', 'Total Spend in Months 1 and 2 of 2017','Total Call centre complaint calls', 'Total Unique Calls', 'Total Data Consumption', 'Total Onnet spend ', 'Total Offnet spend']\n",
    "neighbors = 7\n",
    "classifier = KNeighborsClassifier(neighbors)\n",
    "classifier.fit(customers[features], customers['Churn Status'])\n",
    "predictions = classifier.predict(test[features])\n",
    "output = [['Customer ID', 'Churn Status']]\n",
    "for i in range(len(test)):\n",
    "    output.append([test.loc[i]['Customer ID'], predictions[i]])\n",
    "with open('resultsKnn.csv', 'w', newline='') as File:\n",
    "    writer = csv.writer(File)\n",
    "    writer.writerows(output)"
   ]
  },
  {
   "cell_type": "code",
   "execution_count": 4,
   "metadata": {
    "collapsed": true
   },
   "outputs": [],
   "source": [
    "# Gaussian Naive Bayes test\n",
    "features = ['network_age', 'Total Spend in Months 1 and 2 of 2017','Total Call centre complaint calls', 'Total Unique Calls', 'Total Onnet spend ', 'Total Offnet spend', 'Total Data Consumption']\n",
    "nb = GaussianNB()\n",
    "nb.fit(customers[features], customers['Churn Status'])\n",
    "predictions = nb.predict(test[features])\n",
    "output = [['Customer ID', 'Churn Status']]\n",
    "for i in range(len(test)):\n",
    "    output.append([test.loc[i]['Customer ID'], predictions[i]])\n",
    "with open('resultsNB.csv', 'w', newline='') as File:\n",
    "    writer = csv.writer(File)\n",
    "    writer.writerows(output)"
   ]
  },
  {
   "cell_type": "code",
   "execution_count": 12,
   "metadata": {},
   "outputs": [
    {
     "data": {
      "text/html": [
       "<div>\n",
       "<style>\n",
       "    .dataframe thead tr:only-child th {\n",
       "        text-align: right;\n",
       "    }\n",
       "\n",
       "    .dataframe thead th {\n",
       "        text-align: left;\n",
       "    }\n",
       "\n",
       "    .dataframe tbody tr th {\n",
       "        vertical-align: top;\n",
       "    }\n",
       "</style>\n",
       "<table border=\"1\" class=\"dataframe\">\n",
       "  <thead>\n",
       "    <tr style=\"text-align: right;\">\n",
       "      <th></th>\n",
       "      <th>Customer ID</th>\n",
       "      <th>Churn Status</th>\n",
       "      <th>Churn Status 2</th>\n",
       "    </tr>\n",
       "  </thead>\n",
       "  <tbody>\n",
       "  </tbody>\n",
       "</table>\n",
       "</div>"
      ],
      "text/plain": [
       "Empty DataFrame\n",
       "Columns: [Customer ID, Churn Status, Churn Status 2]\n",
       "Index: []"
      ]
     },
     "execution_count": 12,
     "metadata": {},
     "output_type": "execute_result"
    }
   ],
   "source": [
    "f = open('resultsNB2.csv', 'r')\n",
    "amp = pd.read_csv(f)\n",
    "amp[amp['Churn Status'] != amp['Churn Status 2']]"
   ]
  },
  {
   "cell_type": "code",
   "execution_count": 22,
   "metadata": {},
   "outputs": [
    {
     "name": "stdout",
     "output_type": "stream",
     "text": [
      "Accuracy: 0.64\n"
     ]
    }
   ],
   "source": [
    "# Random Forrest test\n",
    "features = ['network_age', 'Total Spend in Months 1 and 2 of 2017','Total Call centre complaint calls', 'Total Unique Calls', 'Total Onnet spend ', 'Total Offnet spend', 'Total Data Consumption']\n",
    "trees = 12\n",
    "rf = RandomForestClassifier(n_estimators=trees)\n",
    "rf.fit(customers[features], customers['Churn Status'])\n",
    "predictions = rf.predict(test[features])\n",
    "output = [['Customer ID', 'Churn Status']]\n",
    "for i in range(len(test)):\n",
    "    output.append([test.loc[i]['Customer ID'], predictions[i]])\n",
    "with open('resultsRF2.csv', 'w', newline='') as File:\n",
    "    writer = csv.writer(File)\n",
    "    writer.writerows(output)\n",
    "correct = 0\n",
    "for i in range(len(test)):\n",
    "    if predictions[i] == test.loc[i]['Churn Status']: correct += 1\n",
    "print('Accuracy:', float(correct)/float(len(test)))"
   ]
  },
  {
   "cell_type": "code",
   "execution_count": null,
   "metadata": {
    "collapsed": true
   },
   "outputs": [],
   "source": []
  },
  {
   "cell_type": "code",
   "execution_count": null,
   "metadata": {
    "collapsed": true
   },
   "outputs": [],
   "source": []
  }
 ],
 "metadata": {
  "kernelspec": {
   "display_name": "Python 3",
   "language": "python",
   "name": "python3"
  },
  "language_info": {
   "codemirror_mode": {
    "name": "ipython",
    "version": 3
   },
   "file_extension": ".py",
   "mimetype": "text/x-python",
   "name": "python",
   "nbconvert_exporter": "python",
   "pygments_lexer": "ipython3",
   "version": "3.6.3"
  }
 },
 "nbformat": 4,
 "nbformat_minor": 2
}
