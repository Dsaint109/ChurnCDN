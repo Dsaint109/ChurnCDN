{
 "cells": [
  {
   "cell_type": "code",
   "execution_count": 1,
   "metadata": {
    "collapsed": true
   },
   "outputs": [],
   "source": [
    "import csv\n",
    "import pandas as pd\n",
    "from sklearn.neighbors import KNeighborsClassifier\n",
    "from sklearn.tree import DecisionTreeClassifier\n",
    "from sklearn.ensemble import RandomForestClassifier\n",
    "from sklearn.naive_bayes import GaussianNB"
   ]
  },
  {
   "cell_type": "code",
   "execution_count": 2,
   "metadata": {
    "collapsed": true
   },
   "outputs": [],
   "source": [
    "# For compatibility across multiple platforms\n",
    "import os\n",
    "IB = os.environ.get('INSTABASE_URI',None) is not None\n",
    "open = ib.open if IB else open"
   ]
  },
  {
   "cell_type": "code",
   "execution_count": 10,
   "metadata": {},
   "outputs": [
    {
     "name": "stdout",
     "output_type": "stream",
     "text": [
      "1400\n",
      "600\n"
     ]
    }
   ],
   "source": [
    "# Read Train.csv into dataframe\n",
    "f = open('Train.csv', 'r')\n",
    "customers = pd.read_csv(f)\n",
    "customers = customers.reset_index(drop=True)\n",
    "customers = customers[:len(customers)-1]\n",
    "f = open('Test.csv', 'r')\n",
    "test = pd.read_csv(f)\n",
    "print(len(customers))\n",
    "print(len(test))"
   ]
  },
  {
   "cell_type": "code",
   "execution_count": 7,
   "metadata": {},
   "outputs": [
    {
     "ename": "NameError",
     "evalue": "name 'neighbors' is not defined",
     "output_type": "error",
     "traceback": [
      "\u001b[1;31m---------------------------------------------------------------------------\u001b[0m",
      "\u001b[1;31mNameError\u001b[0m                                 Traceback (most recent call last)",
      "\u001b[1;32m<ipython-input-7-8d0472eb4bdd>\u001b[0m in \u001b[0;36m<module>\u001b[1;34m()\u001b[0m\n\u001b[0;32m      1\u001b[0m \u001b[1;31m# KNN test\u001b[0m\u001b[1;33m\u001b[0m\u001b[1;33m\u001b[0m\u001b[0m\n\u001b[0;32m      2\u001b[0m \u001b[0mfeatures\u001b[0m \u001b[1;33m=\u001b[0m \u001b[1;33m[\u001b[0m\u001b[1;34m'network_age'\u001b[0m\u001b[1;33m,\u001b[0m \u001b[1;34m'Total Spend in Months 1 and 2 of 2017'\u001b[0m\u001b[1;33m,\u001b[0m\u001b[1;34m'Total Call centre complaint calls'\u001b[0m\u001b[1;33m,\u001b[0m \u001b[1;34m'Total Unique Calls'\u001b[0m\u001b[1;33m,\u001b[0m \u001b[1;34m'Total Data Consumption'\u001b[0m\u001b[1;33m,\u001b[0m \u001b[1;34m'Total Onnet spend '\u001b[0m\u001b[1;33m,\u001b[0m \u001b[1;34m'Total Offnet spend'\u001b[0m\u001b[1;33m]\u001b[0m\u001b[1;33m\u001b[0m\u001b[0m\n\u001b[1;32m----> 3\u001b[1;33m \u001b[0mneighbors\u001b[0m \u001b[1;33m=\u001b[0m \u001b[0mclassifier\u001b[0m \u001b[1;33m=\u001b[0m \u001b[0mKNeighborsClassifier\u001b[0m\u001b[1;33m(\u001b[0m\u001b[0mneighbors\u001b[0m\u001b[1;33m)\u001b[0m\u001b[1;33m\u001b[0m\u001b[0m\n\u001b[0m\u001b[0;32m      4\u001b[0m \u001b[0mclassifier\u001b[0m\u001b[1;33m.\u001b[0m\u001b[0mfit\u001b[0m\u001b[1;33m(\u001b[0m\u001b[0mcustomers\u001b[0m\u001b[1;33m[\u001b[0m\u001b[0mfeatures\u001b[0m\u001b[1;33m]\u001b[0m\u001b[1;33m,\u001b[0m \u001b[0mcustomers\u001b[0m\u001b[1;33m[\u001b[0m\u001b[1;34m'Churn Status'\u001b[0m\u001b[1;33m]\u001b[0m\u001b[1;33m)\u001b[0m\u001b[1;33m\u001b[0m\u001b[0m\n\u001b[0;32m      5\u001b[0m \u001b[0mpredictions\u001b[0m \u001b[1;33m=\u001b[0m \u001b[0mclassifier\u001b[0m\u001b[1;33m.\u001b[0m\u001b[0mpredict\u001b[0m\u001b[1;33m(\u001b[0m\u001b[0mtest\u001b[0m\u001b[1;33m[\u001b[0m\u001b[0mfeatures\u001b[0m\u001b[1;33m]\u001b[0m\u001b[1;33m)\u001b[0m\u001b[1;33m\u001b[0m\u001b[0m\n",
      "\u001b[1;31mNameError\u001b[0m: name 'neighbors' is not defined"
     ]
    }
   ],
   "source": [
    "# KNN test\n",
    "features = ['network_age', 'Total Spend in Months 1 and 2 of 2017','Total Call centre complaint calls', 'Total Unique Calls', 'Total Data Consumption', 'Total Onnet spend ', 'Total Offnet spend']\n",
    "neighbors = classifier = KNeighborsClassifier(neighbors)\n",
    "classifier.fit(customers[features], customers['Churn Status'])\n",
    "predictions = classifier.predict(test[features])\n",
    "output = [['Customer ID', 'Churn Status']]\n",
    "for i in range(len(test)):\n",
    "    output.append([test.loc[i]['Customer ID'], predictions[i]])\n",
    "with open('resultsKnn.csv', 'w', newline='') as File:\n",
    "    writer = csv.writer(File)\n",
    "    writer.writerows(output)"
   ]
  },
  {
   "cell_type": "code",
   "execution_count": 11,
   "metadata": {},
   "outputs": [],
   "source": [
    "# Gaussian Naive Bayes test\n",
    "features = ['network_age', 'Total Spend in Months 1 and 2 of 2017','Total Call centre complaint calls', 'Total Unique Calls', 'Total Data Consumption', 'Total Onnet spend ', 'Total Offnet spend']\n",
    "nb = GaussianNB()\n",
    "nb.fit(customers[features], customers['Churn Status'])\n",
    "predictions = nb.predict(test[features])\n",
    "output = [['Customer ID', 'Churn Status']]\n",
    "for i in range(len(test)):\n",
    "    output.append([test.loc[i]['Customer ID'], predictions[i]])\n",
    "with open('resultsNB.csv', 'w', newline='') as File:\n",
    "    writer = csv.writer(File)\n",
    "    writer.writerows(output)"
   ]
  },
  {
   "cell_type": "code",
   "execution_count": null,
   "metadata": {
    "collapsed": true
   },
   "outputs": [],
   "source": []
  }
 ],
 "metadata": {
  "kernelspec": {
   "display_name": "Python 3",
   "language": "python",
   "name": "python3"
  },
  "language_info": {
   "codemirror_mode": {
    "name": "ipython",
    "version": 3
   },
   "file_extension": ".py",
   "mimetype": "text/x-python",
   "name": "python",
   "nbconvert_exporter": "python",
   "pygments_lexer": "ipython3",
   "version": "3.6.3"
  }
 },
 "nbformat": 4,
 "nbformat_minor": 2
}
